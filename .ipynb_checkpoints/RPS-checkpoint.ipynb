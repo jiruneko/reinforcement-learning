{
 "cells": [
  {
   "cell_type": "code",
   "execution_count": null,
   "id": "9b1ab8d4-77f2-4ff3-8faf-28557e17503d",
   "metadata": {},
   "outputs": [],
   "source": [
    "import random\n",
    "\n",
    "hands = [\"グー\", \"チョキ\", \"パー\"]\n",
    "\n",
    "recent_moves = []\n",
    "\n",
    "ai_wins = 0\n",
    "player_wins = 0\n",
    "draws = 0\n",
    "\n",
    "for i in range(10):\n",
    "    if len(recent_moves) < 3:\n",
    "        ai_choice = random.choice(hands)\n",
    "    else:\n",
    "        most_common_hand = max(set(recent_moves), key=recent_moves.count)\n",
    "        if most_common_hand == \"グー\":\n",
    "            ai_choice = \"パー\"\n",
    "        elif most_common_hand == \"チョキ\":\n",
    "            ai_choice = \"グー\"\n",
    "        else:\n",
    "            ai_choice = \"チョキ\n",
    "\n",
    "    player_choice = input(\"【第{}戦】あなたの手を入力してください（グー/チョキ/パー）\".format(i + 1))\n",
    "\n",
    "    while player_choice not in hands:\n",
    "        print(\"※無効な入力です。グー、チョキ、パーのいずれかを入力してください！\")\n",
    "        player_choice = input(\"【第{}戦】あなたの手を入力してください（グー/チョキ/パー）:\".format(i + 1))\n",
    "\n",
    "        recent_moves.append(player_choice)\n",
    "        if len(recent_moves) > 5:\n",
    "            recent_moves.pop(0)\n",
    "\n",
    "        if ai_choice == player_choice:\n",
    "            result_moves.pop(0)\n",
    "\n",
    "        if ai_choice == player_choice:\n",
    "            result = \"引き分け！\"\n",
    "            draws += 1\n",
    "        elif (ai_choice == \"グー\"and player_choice == \"チョキ\") or (ai_choice == \"チョキ\" and player_choice == \"パー\" or (ai_choice == \"パー\" and player_choice==\"グー\"):\n",
    "            result = \"AIの勝ち！\"\n",
    "            ai_wins += 1\n",
    "        elses:\n",
    "        result = \"あなたの勝ち！\"\n",
    "        player_wins += 1\n",
    "\n",
    "    print(f\"【第{}戦】AI:{ai_choice} vs あなた：{plyaer_choice} -> {result}\")\n",
    "\n",
    "print(\"\\n【最終結果】\")\n",
    "print(f\"AIの勝ち:{ai_wins}回\")\n",
    "print(f\"あなたの勝ち:{player_wins}回\")\n",
    "print(f\"引き分け:{draws}回\")"
   ]
  }
 ],
 "metadata": {
  "kernelspec": {
   "display_name": "Python 3 (ipykernel)",
   "language": "python",
   "name": "python3"
  },
  "language_info": {
   "codemirror_mode": {
    "name": "ipython",
    "version": 3
   },
   "file_extension": ".py",
   "mimetype": "text/x-python",
   "name": "python",
   "nbconvert_exporter": "python",
   "pygments_lexer": "ipython3",
   "version": "3.13.2"
  }
 },
 "nbformat": 4,
 "nbformat_minor": 5
}
